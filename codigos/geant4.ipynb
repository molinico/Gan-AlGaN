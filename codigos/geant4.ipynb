{
 "cells": [
  {
   "cell_type": "markdown",
   "metadata": {},
   "source": [
    "# Geant4 Simulaciones\n"
   ]
  },
  {
   "cell_type": "code",
   "execution_count": 1,
   "metadata": {},
   "outputs": [],
   "source": [
    "import matplotlib.pyplot as plt\n",
    "import numpy as np\n",
    "import math\n",
    "import time\n",
    "import scipy.signal\n",
    "from scipy.optimize import curve_fit\n",
    "import scipy.stats as stats\n",
    "import pandas as pd\n",
    "import os\n",
    "from  scipy.stats import chi2_contingency\n",
    "#from statsmodels.stats.weightstats import DescrStatsW\n",
    "import glob\n",
    "import csv\n",
    "import fileinput\n",
    "from glob import glob\n",
    "import re\n",
    "from scipy.signal import butter, filtfilt\n",
    "import scipy.integrate as spi\n",
    "from scipy.stats import chi2\n",
    "from scipy.signal import find_peaks\n",
    "\n",
    "#ej de path=r'C:\\Users\\Sergio\\Desktop\\L6y7\\18-04-23'\n",
    "#path='C:/Users/Nicolás Molina/Desktop/L6-7/04-05-23-14kV'\n",
    "#path=r'C:\\Users\\Sergio\\Desktop\\L6y7\\04-05-23-19kV'\n",
    "\n",
    "path=r'C:\\Users\\Nicolás Molina\\OneDrive\\Escritorio\\GaNAlGaN\\Gan-AlGaN\\adquisiciones\\PL'\n",
    "\n",
    "#get_ipython().run_line_magic('matplotlib', 'inline')\n",
    "get_ipython().run_line_magic('matplotlib', 'qt5')\n",
    "\n",
    "import matplotlib.ticker as ticker\n"
   ]
  },
  {
   "cell_type": "markdown",
   "metadata": {},
   "source": [
    "### Primero recupero ultimo PL"
   ]
  },
  {
   "cell_type": "code",
   "execution_count": 2,
   "metadata": {},
   "outputs": [
    {
     "name": "stdout",
     "output_type": "stream",
     "text": [
      "['0 ps.csv', '1 5cef3 bis.Sample.Raw.csv', '2 10cef3 bis.Sample.Raw.csv', '3 nf 5 uvvis.csv', '4 nf 10 uvvis.csv', '5 nf 15 uvvis.csv', '6 nf 20 uvvis.csv']\n"
     ]
    }
   ],
   "source": [
    "plt.close(\"all\")\n",
    "path=r'C:\\Users\\Nicolás Molina\\OneDrive\\Escritorio\\GaNAlGaN\\Gan-AlGaN\\adquisiciones\\MEDIDAS FINALES 28-6\\pl final'\n",
    "\n",
    "os.chdir (path)\n",
    "\n",
    "# busco la absorbancia (en uvvis) en el punto donde excito las muestras en el pl\n",
    "uvvis=glob('*.csv')\n",
    "\n",
    "#pl=np.loadtxt(\"pl2fail.txt\", delimiter='\t', skiprows=1, unpack=True)\n",
    "\n",
    "def mean(numbers):\n",
    "    return sum(numbers)/len(numbers)\n",
    "\n",
    "\n",
    "abs=[]\n",
    "\n",
    "print(uvvis)\n",
    "\n",
    "\n",
    "\n",
    "#plt.figure()\n",
    "for film in uvvis:\n",
    "  uv=np.loadtxt(film, delimiter=',', skiprows=1, unpack=True)\n",
    "  lambda_=uv[0]\n",
    "  intensidad=uv[1]  #corrijo\n",
    "  #plt.plot(lambda_[435:445],intensidad[435:445],label=film)\n",
    "  abs.append(mean(intensidad[437:443]))\n",
    "#plt.legend()\n",
    "\n",
    "#ahora si empiezo con pl\n",
    "\n",
    "pl=np.loadtxt(\"pl final cef3 y nf.txt\", delimiter='\t', skiprows=1, unpack=True)\n",
    "\n",
    "\n",
    "lambdapl=pl[0]\n",
    "Iblanco=pl[1]\n",
    "emcorri=pl[9]\n",
    "wg280=pl[10]\n",
    "\n",
    "Is=[]\n",
    "\n",
    "\n",
    "for j in [2,3,4,5,6,7,8]:\n",
    "  I0=pl[j]-Iblanco\n",
    "  T=10**(abs[j-2])\n",
    "  fabs=1-10**(-abs[j-2])\n",
    "  Ipl=I0*emcorri*100*(1-T)/(wg280*fabs)\n",
    "  Ipl=I0*emcorri*100/(wg280)\n",
    "  #plt.plot(lambdapl,Ipl,label=uvvis[j-2])\n",
    "  Is.append(Ipl)\n",
    "\n",
    "\n",
    "max1=max(Is[4])\n",
    "max2=max(Is[5])\n",
    "max3=max(Is[6])\n",
    "\n",
    "maxs=[max1,max2,max3]\n",
    "\n",
    "Inormalizados=Is/max(maxs)\n",
    "\n",
    "\n",
    "titulos2=[\"Ps\",\"Ps/$CeF_{3}$ 5% \",\"Ps/$CeF_{3}$ 10%\",\"Ps/NF 5%\",\"Ps/NF 10%\",\"Ps/NF 15%\",\"Ps/NF 20%\"]\n",
    "\n",
    "i=0\n",
    "plt.figure()\n",
    "plt.title(\"Fotoluminiscencia de PS con diferentes cargas de $CeF_{3}$\")   #Photoluminescence of PS with different loadings of Naphtalene\n",
    "plt.xlabel('$\\lambda$ (nm)')\n",
    "plt.ylabel('Intensidad (u.a)')\n",
    "for j in Inormalizados[0:3]:\n",
    "  plt.plot(lambdapl[15:200],j[15:200],label=titulos2[i],marker=\"o\",linewidth=1,ms=3)\n",
    "  i=i+1\n",
    "plt.legend()\n",
    "\n",
    "\n",
    "plt.figure()\n",
    "plt.title(\"Fotoluminiscencia de PS con diferentes cargas de NF\")   #Photoluminescence of PS with different loadings of Naphtalene\n",
    "plt.xlabel('$\\lambda$ (nm)')\n",
    "plt.ylabel('Intensidad (u.a)')\n",
    "for j in Inormalizados[3:]:\n",
    "  plt.plot(lambdapl[35:200],j[35:200],label=titulos2[i],marker=\"*\")\n",
    "  i=i+1\n",
    "\n",
    "plt.legend()\n",
    "\n",
    "PsCeF3_5old=Inormalizados[5]\n",
    "\"\"\"\n",
    "peaks, _ = find_peaks(Inormalizados[5],height=0.8)\n",
    "peak_x = lambdapl[peaks]\n",
    "peak_y = PsCeF3_5old[peaks]\n",
    "pico1=str(round(peak_x[0]))\n",
    "pico2=str(round(peak_x[1]))\n",
    "#plt.scatter(peak_x[0],peak_y[0],label=f\"{pico1} nm\",c=\"red\",linewidth=1.1,ls=\"-.\",zorder=100,s=25)  \n",
    "#plt.scatter(peak_x[1],peak_y[1],label=f\"{pico2} nm\",c=\"red\",linewidth=1.1,ls=\"-.\",zorder=90,s=25)  \n",
    "plt.axvline(peak_x[0],ls=\"-.\",label=f\"{pico1} nm\",c=\"red\",linewidth=1)\n",
    "plt.axvline(peak_x[1],ls=\"-.\",label=f\"{pico2} nm\",c=\"blue\",linewidth=1)\n",
    "#plt.axvline(320,ls=\"-\",c=\"black\",linewidth=0.8)\n",
    "#plt.axvline(340,ls=\"-\",c=\"black\",linewidth=0.8)\n",
    "\"\"\"\n",
    "\n",
    "\n",
    "Ips=Is[0]/max(Is[0])\n",
    "Ips = [x if x >= 0 else -x for x in Ips]\n",
    "Inf=Is[4]/max(Is[4])\n",
    "Inf = [x if x >= 0 else -x for x in Inf]\n",
    "\n",
    "\n",
    "h = 4.135667696e-15  # eV·s\n",
    "    # Velocidad de la luz (c) en m/s\n",
    "c = 3.0e8  # m/s\n",
    "\n",
    "eV=h*c*1/lambdapl\n"
   ]
  },
  {
   "cell_type": "markdown",
   "metadata": {},
   "source": [
    "### Recupero tiempos de vida"
   ]
  },
  {
   "cell_type": "code",
   "execution_count": 3,
   "metadata": {},
   "outputs": [
    {
     "name": "stderr",
     "output_type": "stream",
     "text": [
      "No artists with labels found to put in legend.  Note that artists whose label start with an underscore are ignored when legend() is called with no argument.\n"
     ]
    },
    {
     "data": {
      "text/plain": [
       "<matplotlib.legend.Legend at 0x253ede17050>"
      ]
     },
     "execution_count": 3,
     "metadata": {},
     "output_type": "execute_result"
    }
   ],
   "source": [
    "plt.close(\"all\")\n",
    "path=r\"C:\\Users\\Nicolás Molina\\OneDrive\\Escritorio\\GaNAlGaN\\Gan-AlGaN\\adquisiciones\\MEDIDAS FINALES 28-6\\trpl final\"  #'C:\\Users\\Nicolás Molina\\OneDrive\\Escritorio\\GaNAlGaN\\Gan-AlGaN\\adquisiciones\\cef3 solo'\n",
    "\n",
    "os.chdir (path)\n",
    "\n",
    "# busco la absorbancia (en uvvis) en el punto donde excito las muestras en el pl\n",
    "\n",
    "\n",
    "## plots crudos\n",
    "lifetime=np.loadtxt(\"tiempos de vida.txt\",delimiter=\"\t\",skiprows=9,unpack=True)\n",
    "time=lifetime[0]\n",
    "nf5=lifetime[1]\n",
    "pulso=lifetime[2]\n",
    "ps=lifetime[3]\n",
    "cef3_5=lifetime[4]\n",
    "cef3_10=lifetime[5]\n",
    "nf10=lifetime[6]\n",
    "nf15=lifetime[7]\n",
    "nf20=lifetime[8]\n",
    "\n",
    "lifetimes=[nf5,pulso,ps,cef3_5,cef3_10,nf10,nf15,nf20]\n",
    "titulos=[\"Ps/NF 5%\",\"Pulso\",\"Ps\",\"Ps/$CeF_{3}$ 5% \",\"Ps/$CeF_{3}$ 10%\",\"Ps/NF 10%\",\"Ps/NF 15%\",\"Ps/NF 20%\"]\n",
    "\n",
    "i=0\n",
    "plt.figure()\n",
    "for j in lifetimes:\n",
    "    plt.plot(time,j,label=titulos[i])\n",
    "    i=i+1\n",
    "plt.legend()\n",
    "\n",
    "fitps=np.loadtxt(\"fit ps.txt\",delimiter=\"\t\",skiprows=4,unpack=True)\n",
    "fit5cef3=np.loadtxt(\"fit 5 cef3.txt\",delimiter=\"\t\",skiprows=4,unpack=True)\n",
    "fit10cef3=np.loadtxt(\"fit 10 cef3.txt\",delimiter=\"\t\",skiprows=4,unpack=True)\n",
    "fit5nf=np.loadtxt(\"fit 5 nf.txt\",delimiter=\"\t\",skiprows=4,unpack=True)\n",
    "fit10nf=np.loadtxt(\"fit 10 nf.txt\",delimiter=\"\t\",skiprows=4,unpack=True)\n",
    "fit15nf=np.loadtxt(\"fit 15 nf.txt\",delimiter=\"\t\",skiprows=4,unpack=True)\n",
    "fit20nftri=np.loadtxt(\"fit 20 nf.txt\",delimiter=\"\t\",skiprows=4,unpack=True)\n",
    "fit20nftetra=np.loadtxt(\"fit 20 nf tetraexp.txt\",delimiter=\"\t\",skiprows=4,unpack=True)\n",
    "\n",
    "\n",
    "lifetimes=[ps,cef3_5,cef3_10,nf5,nf10,nf15]\n",
    "fits=[fitps,fit5cef3,fit10cef3,fit5nf,fit10nf,fit15nf]\n",
    "titulos=[\"Ps\",\"Ps/$CeF_{3}$ 5% \",\"Ps/$CeF_{3}$ 10%\",\"Ps/NF 5%\",\"Ps/NF 10%\",\"Ps/NF 15%\"]\n",
    "i=0\n",
    "for j in fits:\n",
    "    tiempofit=j[0]\n",
    "    intfit=j[1]\n",
    "    resfit=j[3]\n",
    "    plt.figure()\n",
    "    plt.xlabel(\"Tiempo (ns)\")\n",
    "    plt.ylabel(\"Cuentas (u.a)\")\n",
    "    plt.plot(time,lifetimes[i],label=\"Tiempo de vida\")\n",
    "    plt.plot(tiempofit,intfit,label=\"Ajuste trixeponencial\",zorder=100,c=\"red\")\n",
    "    plt.title(titulos[i])\n",
    "    plt.legend()\n",
    "    i=i+1\n",
    "\n",
    "\n",
    "plt.figure()\n",
    "plt.plot(time,nf20,label=\"Tiempo de vida\")\n",
    "plt.plot(fit20nftetra[0],fit20nftetra[1],label=\"Ajuste tetraexponencial\",zorder=100,linewidth=0.9,c=\"red\")\n",
    "plt.title(\"Ps/NF 20%\")\n",
    "plt.legend()\n",
    "\"\"\"\n",
    "\n",
    "ajuste=np.loadtxt(\"Ajuste triexp CeF3.txt\",delimiter=\",\",skiprows=4,unpack=True)\n",
    "timeajuste=ajuste[0]\n",
    "intajuste=ajuste[1]\n",
    "\n",
    "plt.plot(timeajuste,intajuste,linestyle=\"--\",c=\"red\",label=\"Ajuste triexponencial\")\n",
    "plt.title(\"Tiempo de vida de las nanopartículas de $CeF_{3}$\")   #Photoluminescence of PS with different loadings of Naphtalene\n",
    "plt.xlabel('Tiempo (ns)')\n",
    "plt.ylabel('Intensidad (u.a)')\n",
    "plt.legend()\n",
    "\n",
    "\"\"\"\n",
    "\n",
    "lifetimes3=[ps,cef3_10,nf10]   #\n",
    "titulos3=[\"Ps\",\"Ps/$CeF_{3}$ 10% \",\"Ps/NF 10%\"]   #\n",
    "i=0 \n",
    "plt.figure()\n",
    "plt.title(\"Tiempos de vida de centelladores\")\n",
    "plt.xlabel(\"Tiempo (ns)\")\n",
    "plt.ylabel(\"Cuentas (u.a)\")\n",
    "for j in lifetimes3:\n",
    "    plt.plot(time,j,label=titulos3[i],linewidth=0.9,zorder=-1)\n",
    "    i=i+1\n",
    "plt.legend()\n",
    "\n",
    "\n",
    "plt.figure()\n",
    "plt.title(\"Pulso de excitación\")\n",
    "plt.xlabel(\"Tiempo (ns)\")\n",
    "plt.ylabel(\"Cuentas (u.a)\")\n",
    "plt.plot(time,pulso)\n",
    "plt.legend()"
   ]
  },
  {
   "cell_type": "markdown",
   "metadata": {},
   "source": [
    "## Comparo simulaciones con experimental\n"
   ]
  },
  {
   "cell_type": "code",
   "execution_count": 9,
   "metadata": {},
   "outputs": [
    {
     "data": {
      "text/plain": [
       "<matplotlib.legend.Legend at 0x253ef938910>"
      ]
     },
     "execution_count": 9,
     "metadata": {},
     "output_type": "execute_result"
    }
   ],
   "source": [
    "plt.close(\"all\")\n",
    "path=r\"C:\\Users\\Nicolás Molina\\OneDrive\\Escritorio\\GaNAlGaN\\Gan-AlGaN\\simulaciones\"  #'C:\\Users\\Nicolás Molina\\OneDrive\\Escritorio\\GaNAlGaN\\Gan-AlGaN\\adquisiciones\\cef3 solo'\n",
    "\n",
    "os.chdir (path)\n",
    "\n",
    "emision=np.loadtxt(\"prueba emision.txt\",delimiter=\"\t\",skiprows=0,unpack=True)\n",
    "lifetime=np.loadtxt(\"prueba lifetime.txt\",delimiter=\"\t\",skiprows=0,unpack=True)\n",
    "\n",
    "wlemision=emision[0]/1000\n",
    "Ipssim=emision[1]/max(emision[1])\n",
    "\n",
    "\n",
    "\n",
    "plt.figure()\n",
    "plt.title(\"Espectro de emisión del poliestireno (Ps)\")\n",
    "plt.plot(lambdapl[15:],Ips[15:],label=\"Experimental\")\n",
    "plt.plot(wlemision,Ipssim,label=\"Simulación Geant4\",zorder=100)\n",
    "plt.xlabel(\"$\\lambda$ (nm)\")\n",
    "#plt.ylabel(\"Cuentas (u.a)\")\n",
    "plt.legend()"
   ]
  },
  {
   "cell_type": "code",
   "execution_count": 10,
   "metadata": {},
   "outputs": [
    {
     "data": {
      "text/plain": [
       "<matplotlib.legend.Legend at 0x253ee299790>"
      ]
     },
     "execution_count": 10,
     "metadata": {},
     "output_type": "execute_result"
    }
   ],
   "source": [
    "plt.close(\"all\")\n",
    "path=r\"C:\\Users\\Nicolás Molina\\OneDrive\\Escritorio\\GaNAlGaN\\Gan-AlGaN\\simulaciones\"  #'C:\\Users\\Nicolás Molina\\OneDrive\\Escritorio\\GaNAlGaN\\Gan-AlGaN\\adquisiciones\\cef3 solo'\n",
    "\n",
    "os.chdir (path)\n",
    "\n",
    "emision=np.loadtxt(\"prueba emision nf.txt\",delimiter=\"\t\",skiprows=0,unpack=True)\n",
    "#lifetime=np.loadtxt(\"prueba lifetime nf.txt\",delimiter=\"\t\",skiprows=0,unpack=True)\n",
    "\n",
    "wlemision=emision[0]/1000\n",
    "Infsim=emision[1]/max(emision[1])\n",
    "\n",
    "\n",
    "plt.figure()\n",
    "plt.title(\"Espectro de emisión del Naftaleno (Nf)\")\n",
    "plt.plot(lambdapl[15:],Inf[15:],label=\"Experimental\", linewidth=3, linestyle='-')\n",
    "plt.plot(wlemision,Infsim,label=\"Simulación Geant4\",zorder=100)\n",
    "plt.xlabel(\"$\\lambda$ (nm)\")\n",
    "#plt.ylabel(\"Cuentas (u.a)\")\n",
    "plt.legend()"
   ]
  },
  {
   "cell_type": "markdown",
   "metadata": {},
   "source": [
    "### alpha Arazi"
   ]
  },
  {
   "cell_type": "code",
   "execution_count": 8,
   "metadata": {},
   "outputs": [
    {
     "data": {
      "text/plain": [
       "<matplotlib.legend.Legend at 0x253eba44750>"
      ]
     },
     "execution_count": 8,
     "metadata": {},
     "output_type": "execute_result"
    }
   ],
   "source": [
    "plt.close(\"all\")\n",
    "path=r\"C:\\Users\\Nicolás Molina\\OneDrive\\Escritorio\\GaNAlGaN\\Gan-AlGaN\\simulaciones\"  #'C:\\Users\\Nicolás Molina\\OneDrive\\Escritorio\\GaNAlGaN\\Gan-AlGaN\\adquisiciones\\cef3 solo'\n",
    "\n",
    "os.chdir (path)\n",
    "\n",
    "emision=np.loadtxt(\"PsEmision1000AlphaArazi.txt\",delimiter=\"\t\",skiprows=0,unpack=True)\n",
    "#lifetime=np.loadtxt(\"prueba lifetime nf.txt\",delimiter=\"\t\",skiprows=0,unpack=True)\n",
    "\n",
    "wlemision=emision[0]/1000\n",
    "Ipssim=emision[1]\n",
    "\n",
    "\n",
    "plt.figure()\n",
    "plt.title(r\"Centelladores expuestos a fuente $\\alpha$ durante 0.25s\")\n",
    "#plt.plot(lambdapl[15:],Inf[15:],label=\"Experimental\", linewidth=3, linestyle='-')\n",
    "plt.plot(wlemision,Ipssim,zorder=100,label=\"Ps\")\n",
    "plt.xlabel(\"$\\lambda$ (nm)\")\n",
    "#plt.ylabel(\"Cuentas (u.a)\")\n",
    "\n",
    "\n",
    "\n",
    "####\n",
    "\n",
    "\n",
    "emision=np.loadtxt(\"NfEmision1000AlphaArazi.txt\",delimiter=\"\t\",skiprows=0,unpack=True)\n",
    "#lifetime=np.loadtxt(\"prueba lifetime nf.txt\",delimiter=\"\t\",skiprows=0,unpack=True)\n",
    "\n",
    "wlemision=emision[0]/1000\n",
    "Infsim=emision[1]\n",
    "\n",
    "\n",
    "#plt.figure()\n",
    "#plt.title(\"Nf expuesto a fuente alpha por 1s simulado\")\n",
    "#plt.plot(lambdapl[15:],Inf[15:],label=\"Experimental\", linewidth=3, linestyle='-')\n",
    "plt.plot(wlemision,Infsim,zorder=100,label=\"Ps/Nf 10$\\%$\")\n",
    "plt.xlabel(\"$\\lambda$ (nm)\")\n",
    "plt.ylabel(\"Cuentas (u.a)\")\n",
    "plt.legend()\n",
    "\n",
    "\n",
    "######### TIEMPOS DE VIDA\n",
    "\n",
    "tps,cuentasps=np.loadtxt(\"PsLT1000AlphaArazi.txt\",delimiter=\"\t\",skiprows=0,unpack=True)\n",
    "tnf,cuentasnf=np.loadtxt(\"NfLT1000AlphaArazi.txt\",delimiter=\"\t\",skiprows=0,unpack=True)\n",
    "\n",
    "\n",
    "plt.figure()\n",
    "#plt.title(r\"Tiempo de vida del Ps simulado\")\n",
    "plt.title(r\"Tiempos de vida de centelladores expuestos a fuente $\\alpha$ durante 0.25s\")\n",
    "#plt.plot(lambdapl[15:],Inf[15:],label=\"Experimental\", linewidth=3, linestyle='-')\n",
    "plt.plot(tps,cuentasps/max(cuentasps),zorder=100,label=\"Ps\")\n",
    "plt.xlabel(\"t (s)\")\n",
    "#plt.ylabel(\"Cuentas (u.a)\")\n",
    "\n",
    "#plt.figure()\n",
    "#plt.title(r\"Tiempo de vida del Nf simulado\")\n",
    "plt.plot(tnf,cuentasnf/max(cuentasnf),zorder=100,label=\"Ps/Nf 10$\\%$\")\n",
    "#plt.ylabel(\"Cuentas (u.a)\")\n",
    "plt.xlabel(\"t (s)\")\n",
    "plt.legend()\n"
   ]
  },
  {
   "cell_type": "markdown",
   "metadata": {},
   "source": [
    "## POSTER"
   ]
  },
  {
   "cell_type": "code",
   "execution_count": 25,
   "metadata": {},
   "outputs": [
    {
     "data": {
      "text/plain": [
       "<matplotlib.legend.Legend at 0x253f5a4d150>"
      ]
     },
     "execution_count": 25,
     "metadata": {},
     "output_type": "execute_result"
    }
   ],
   "source": [
    "plt.close(\"all\")\n",
    "path=r\"C:\\Users\\Nicolás Molina\\OneDrive\\Escritorio\\GaNAlGaN\\Gan-AlGaN\\simulaciones\\poster\"  #'C:\\Users\\Nicolás Molina\\OneDrive\\Escritorio\\GaNAlGaN\\Gan-AlGaN\\adquisiciones\\cef3 solo'\n",
    "\n",
    "os.chdir (path)\n",
    "\n",
    "pvt08 =np.loadtxt(\"PVT0.8mm.txt\",delimiter=\"\t\",skiprows=0,unpack=True)\n",
    "pvt2=np.loadtxt(\"PVT2mm.txt\",delimiter=\"\t\",skiprows=0,unpack=True)\n",
    "ps2=np.loadtxt(\"Ps2mm.txt\",delimiter=\"\t\",skiprows=0,unpack=True)\n",
    "psnf=np.loadtxt(\"psnf2mm.txt\",delimiter=\"\t\",skiprows=0,unpack=True)\n",
    "\n",
    "pls=[ps2,pvt08]\n",
    "titulos=[\"Ps de 2 mm de espesor\",\"PVT de 0,8 mm de espesor\"]\n",
    "\n",
    "norm=max(psnf[1])\n",
    "\n",
    "j=0\n",
    "plt.figure()\n",
    "plt.title(\"Fotoluminiscencia simulada con GEANT4\")\n",
    "for pl in pls:\n",
    "    plt.plot(pl[0]*1000000,pl[1]/norm,label=titulos[j],linewidth=2)\n",
    "\n",
    "    j=j+1\n",
    "plt.xlabel(\"$\\lambda$ (nm)\")\n",
    "plt.plot(pvt2[0]*1000000,pvt2[1]/norm,label=\"PVT de 2 mm de espesor\",c=\"purple\",linewidth=2)\n",
    "plt.ylabel(\"Intensidad (u.a)\")\n",
    "plt.legend()\n",
    "\n",
    "plt.figure()\n",
    "plt.title(\"Fotoluminiscencia simulada con GEANT4\")\n",
    "plt.plot(pvt2[0]*1000000,pvt2[1]/norm,label=\"PVT de 2 mm de espesor\",c=\"purple\",linewidth=2)\n",
    "plt.plot(psnf[0]*1000000,psnf[1]/norm,label=\"Ps/Nf de 2 mm de espesor\",c=\"black\",linewidth=2)\n",
    "plt.ylabel(\"Intensidad (u.a)\")\n",
    "plt.xlabel(\"$\\lambda$ (nm)\")\n",
    "plt.legend()"
   ]
  },
  {
   "cell_type": "code",
   "execution_count": 7,
   "metadata": {},
   "outputs": [],
   "source": [
    "\n",
    "h = 4.135667696e-15  # eV·s\n",
    "    # Velocidad de la luz (c) en m/s\n",
    "c = 3.0e8  # m/s\n",
    "\n",
    "\n",
    "\n",
    "plt.close(\"all\")\n",
    "path=r\"C:\\Users\\Nicolás Molina\\OneDrive\\Escritorio\\cosas que no uso\"  #'C:\\Users\\Nicolás Molina\\OneDrive\\Escritorio\\GaNAlGaN\\Gan-AlGaN\\adquisiciones\\cef3 solo'\n",
    "\n",
    "os.chdir (path)\n",
    "\n",
    "nm,int=np.loadtxt(\"emision pvt.txt\",delimiter=\"\t\",skiprows=0,unpack=True)\n",
    "\n",
    "\n",
    "\n",
    "eV=h*c*1/(nm*1.0e-9)\n",
    "eV=1240/nm"
   ]
  }
 ],
 "metadata": {
  "kernelspec": {
   "display_name": "Python 3",
   "language": "python",
   "name": "python3"
  },
  "language_info": {
   "codemirror_mode": {
    "name": "ipython",
    "version": 3
   },
   "file_extension": ".py",
   "mimetype": "text/x-python",
   "name": "python",
   "nbconvert_exporter": "python",
   "pygments_lexer": "ipython3",
   "version": "3.11.7"
  }
 },
 "nbformat": 4,
 "nbformat_minor": 2
}
