{
 "cells": [
  {
   "cell_type": "markdown",
   "metadata": {},
   "source": [
    "# XRD Bragg\n"
   ]
  },
  {
   "cell_type": "markdown",
   "metadata": {},
   "source": [
    "### importar"
   ]
  },
  {
   "cell_type": "code",
   "execution_count": 2,
   "metadata": {},
   "outputs": [],
   "source": [
    "import matplotlib.pyplot as plt\n",
    "import numpy as np\n",
    "import math\n",
    "import time\n",
    "import scipy.signal\n",
    "from scipy.optimize import curve_fit\n",
    "import scipy.stats as stats\n",
    "import pandas as pd\n",
    "import os\n",
    "from  scipy.stats import chi2_contingency\n",
    "#from statsmodels.stats.weightstats import DescrStatsW\n",
    "import glob\n",
    "\n",
    "from scipy.signal import butter, filtfilt\n",
    "import scipy.integrate as spi\n",
    "from scipy.stats import chi2\n",
    "\n",
    "#ej de path=r'C:\\Users\\Sergio\\Desktop\\L6y7\\18-04-23'\n",
    "#path='C:/Users/Nicolás Molina/Desktop/L6-7/04-05-23-14kV'\n",
    "#path=r'C:\\Users\\Sergio\\Desktop\\L6y7\\04-05-23-19kV'\n",
    "\n",
    "path=r'C:\\Users\\Nicolás Molina\\OneDrive\\Escritorio\\GaNAlGaN\\Gan-AlGaN\\adquisiciones\\Bragg'\n",
    "\n",
    "#get_ipython().run_line_magic('matplotlib', 'inline')\n",
    "get_ipython().run_line_magic('matplotlib', 'qt5')\n",
    "\n",
    "import matplotlib.ticker as ticker\n"
   ]
  },
  {
   "cell_type": "code",
   "execution_count": 3,
   "metadata": {},
   "outputs": [
    {
     "ename": "FileNotFoundError",
     "evalue": "[Errno 2] No such file or directory: 'CeF3.tsv'",
     "output_type": "error",
     "traceback": [
      "\u001b[1;31m---------------------------------------------------------------------------\u001b[0m",
      "\u001b[1;31mFileNotFoundError\u001b[0m                         Traceback (most recent call last)",
      "Cell \u001b[1;32mIn[3], line 36\u001b[0m\n\u001b[0;32m     34\u001b[0m input_file \u001b[38;5;241m=\u001b[39m \u001b[38;5;124m'\u001b[39m\u001b[38;5;124mCeF3.tsv\u001b[39m\u001b[38;5;124m'\u001b[39m\n\u001b[0;32m     35\u001b[0m output_file \u001b[38;5;241m=\u001b[39m \u001b[38;5;124m'\u001b[39m\u001b[38;5;124mCeF3.tsv\u001b[39m\u001b[38;5;124m'\u001b[39m\n\u001b[1;32m---> 36\u001b[0m process_file(input_file, output_file)\n",
      "Cell \u001b[1;32mIn[3], line 18\u001b[0m, in \u001b[0;36mprocess_file\u001b[1;34m(input_file, output_file)\u001b[0m\n\u001b[0;32m     16\u001b[0m \u001b[38;5;28;01mdef\u001b[39;00m \u001b[38;5;21mprocess_file\u001b[39m(input_file, output_file):\n\u001b[0;32m     17\u001b[0m \u001b[38;5;250m    \u001b[39m\u001b[38;5;124;03m\"\"\"Lee un archivo, convierte números en notación científica a notación normal, y escribe en un nuevo archivo.\"\"\"\u001b[39;00m\n\u001b[1;32m---> 18\u001b[0m     \u001b[38;5;28;01mwith\u001b[39;00m \u001b[38;5;28mopen\u001b[39m(input_file, \u001b[38;5;124m'\u001b[39m\u001b[38;5;124mr\u001b[39m\u001b[38;5;124m'\u001b[39m) \u001b[38;5;28;01mas\u001b[39;00m file:\n\u001b[0;32m     19\u001b[0m         content \u001b[38;5;241m=\u001b[39m file\u001b[38;5;241m.\u001b[39mread()\n\u001b[0;32m     21\u001b[0m     \u001b[38;5;66;03m# Encuentra todos los números en notación científica en el archivo\u001b[39;00m\n",
      "File \u001b[1;32mc:\\Users\\Nicolás Molina\\anaconda3\\Lib\\site-packages\\IPython\\core\\interactiveshell.py:310\u001b[0m, in \u001b[0;36m_modified_open\u001b[1;34m(file, *args, **kwargs)\u001b[0m\n\u001b[0;32m    303\u001b[0m \u001b[38;5;28;01mif\u001b[39;00m file \u001b[38;5;129;01min\u001b[39;00m {\u001b[38;5;241m0\u001b[39m, \u001b[38;5;241m1\u001b[39m, \u001b[38;5;241m2\u001b[39m}:\n\u001b[0;32m    304\u001b[0m     \u001b[38;5;28;01mraise\u001b[39;00m \u001b[38;5;167;01mValueError\u001b[39;00m(\n\u001b[0;32m    305\u001b[0m         \u001b[38;5;124mf\u001b[39m\u001b[38;5;124m\"\u001b[39m\u001b[38;5;124mIPython won\u001b[39m\u001b[38;5;124m'\u001b[39m\u001b[38;5;124mt let you open fd=\u001b[39m\u001b[38;5;132;01m{\u001b[39;00mfile\u001b[38;5;132;01m}\u001b[39;00m\u001b[38;5;124m by default \u001b[39m\u001b[38;5;124m\"\u001b[39m\n\u001b[0;32m    306\u001b[0m         \u001b[38;5;124m\"\u001b[39m\u001b[38;5;124mas it is likely to crash IPython. If you know what you are doing, \u001b[39m\u001b[38;5;124m\"\u001b[39m\n\u001b[0;32m    307\u001b[0m         \u001b[38;5;124m\"\u001b[39m\u001b[38;5;124myou can use builtins\u001b[39m\u001b[38;5;124m'\u001b[39m\u001b[38;5;124m open.\u001b[39m\u001b[38;5;124m\"\u001b[39m\n\u001b[0;32m    308\u001b[0m     )\n\u001b[1;32m--> 310\u001b[0m \u001b[38;5;28;01mreturn\u001b[39;00m io_open(file, \u001b[38;5;241m*\u001b[39margs, \u001b[38;5;241m*\u001b[39m\u001b[38;5;241m*\u001b[39mkwargs)\n",
      "\u001b[1;31mFileNotFoundError\u001b[0m: [Errno 2] No such file or directory: 'CeF3.tsv'"
     ]
    }
   ],
   "source": [
    "import fileinput\n",
    "from glob import glob\n",
    "\n",
    "\n",
    "path=r'C:\\Users\\Nicolás Molina\\OneDrive\\Escritorio\\GaNAlGaN\\Gan-AlGaN\\adquisiciones\\Bragg'\n",
    "os.chdir (path)\n",
    "import re\n",
    "\n",
    "def scientific_to_normal(number_str):\n",
    "    \"\"\"Convierte un número en notación científica a notación normal.\"\"\"\n",
    "    try:\n",
    "        return str(float(number_str))\n",
    "    except ValueError:\n",
    "        return number_str\n",
    "\n",
    "def process_file(input_file, output_file):\n",
    "    \"\"\"Lee un archivo, convierte números en notación científica a notación normal, y escribe en un nuevo archivo.\"\"\"\n",
    "    with open(input_file, 'r') as file:\n",
    "        content = file.read()\n",
    "\n",
    "    # Encuentra todos los números en notación científica en el archivo\n",
    "    scientific_numbers = re.findall(r'[+-]?\\d+\\.\\d+e[+-]?\\d+', content)\n",
    "\n",
    "    # Reemplaza cada número en notación científica con su representación en notación normal\n",
    "    for number in scientific_numbers:\n",
    "        normal_number = scientific_to_normal(number)\n",
    "        content = content.replace(number, normal_number)\n",
    "\n",
    "    # Escribe el contenido modificado a un nuevo archivo\n",
    "    with open(output_file, 'w') as file:\n",
    "        file.write(content)\n",
    "\n",
    "# Ejemplo de uso\n",
    "input_file = 'CeF3.tsv'\n",
    "output_file = 'CeF3.tsv'\n",
    "process_file(input_file, output_file)\n",
    "\n"
   ]
  },
  {
   "cell_type": "code",
   "execution_count": 4,
   "metadata": {},
   "outputs": [
    {
     "data": {
      "text/plain": [
       "<matplotlib.legend.Legend at 0x1e56c2a2dd0>"
      ]
     },
     "execution_count": 4,
     "metadata": {},
     "output_type": "execute_result"
    }
   ],
   "source": [
    "\n",
    "path=r'C:\\Users\\Nicolás Molina\\OneDrive\\Escritorio\\GaNAlGaN\\Gan-AlGaN\\adquisiciones\\Bragg'\n",
    "plt.close(\"all\")\n",
    "os.chdir (path)\n",
    "import csv\n",
    "\n",
    "file= \"CeF3 espectro corregido.txt\"\n",
    "teorico=\"CeF3 teorico.tsv\"\n",
    "\n",
    "data = np.loadtxt(file, delimiter='\t', skiprows=1, unpack=True)\n",
    "teo= pd.read_csv(teorico, sep='\\t', header=None)\n",
    "x=data[0]/10000\n",
    "y=data[1]/10000\n",
    "\n",
    "\n",
    "xteo=teo[0]\n",
    "yteo=teo[1]\n",
    "\n",
    "\n",
    "plt.figure()\n",
    "#plt.title('Patron de difracción de rayos X de las nanopartículas de $CeF_3$ ')  #XRD pattern of the synthesized $CeF_3$ nanoparticles\n",
    "# plt.plot(t,o3, label='DBD sola sin agua')\n",
    "plt.plot(x,y,c=\"black\",label=\"Patrón medido\")\n",
    "plt.plot(xteo,yteo,c=\"red\",linestyle=\"--\",label=\"Patrón teórico\",linewidth=0.7)\n",
    "plt.xlabel('2$\\Theta$')\n",
    "plt.ylabel('Intensidad')\n",
    "#plt.grid()\n",
    "plt.text(23.5, 2700, '002',rotation=90) # Coordenadas y texto\n",
    "plt.text(24.9, 2700, '110',rotation=90)\n",
    "plt.text(27.6, 8500, '111',rotation=90)\n",
    "plt.text(34.8, 1000, '112',rotation=90)\n",
    "plt.text(43.5, 4500, '030',rotation=90)\n",
    "plt.text(45.1, 4100, '113',rotation=90)\n",
    "plt.grid()\n",
    "plt.tight_layout()\n",
    "plt.legend()\n"
   ]
  },
  {
   "cell_type": "code",
   "execution_count": null,
   "metadata": {},
   "outputs": [],
   "source": []
  }
 ],
 "metadata": {
  "kernelspec": {
   "display_name": "base",
   "language": "python",
   "name": "python3"
  },
  "language_info": {
   "codemirror_mode": {
    "name": "ipython",
    "version": 3
   },
   "file_extension": ".py",
   "mimetype": "text/x-python",
   "name": "python",
   "nbconvert_exporter": "python",
   "pygments_lexer": "ipython3",
   "version": "3.11.7"
  }
 },
 "nbformat": 4,
 "nbformat_minor": 2
}
