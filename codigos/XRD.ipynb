{
 "cells": [
  {
   "cell_type": "markdown",
   "metadata": {},
   "source": [
    "# XRD Bragg\n"
   ]
  },
  {
   "cell_type": "markdown",
   "metadata": {},
   "source": [
    "### importar"
   ]
  },
  {
   "cell_type": "code",
   "execution_count": 1,
   "metadata": {},
   "outputs": [],
   "source": [
    "import matplotlib.pyplot as plt\n",
    "import numpy as np\n",
    "import math\n",
    "import time\n",
    "import scipy.signal\n",
    "from scipy.optimize import curve_fit\n",
    "import scipy.stats as stats\n",
    "import pandas as pd\n",
    "import os\n",
    "from  scipy.stats import chi2_contingency\n",
    "#from statsmodels.stats.weightstats import DescrStatsW\n",
    "import glob\n",
    "\n",
    "from scipy.signal import butter, filtfilt\n",
    "import scipy.integrate as spi\n",
    "from scipy.stats import chi2\n",
    "\n",
    "#ej de path=r'C:\\Users\\Sergio\\Desktop\\L6y7\\18-04-23'\n",
    "#path='C:/Users/Nicolás Molina/Desktop/L6-7/04-05-23-14kV'\n",
    "#path=r'C:\\Users\\Sergio\\Desktop\\L6y7\\04-05-23-19kV'\n",
    "\n",
    "path=r'C:\\Users\\Nicolás Molina\\OneDrive\\Escritorio\\GaNAlGaN\\Gan-AlGaN\\adquisiciones\\Bragg'\n",
    "\n",
    "#get_ipython().run_line_magic('matplotlib', 'inline')\n",
    "get_ipython().run_line_magic('matplotlib', 'qt5')\n",
    "\n",
    "import matplotlib.ticker as ticker\n"
   ]
  },
  {
   "cell_type": "code",
   "execution_count": 4,
   "metadata": {},
   "outputs": [],
   "source": [
    "import fileinput\n",
    "from glob import glob\n",
    "\n",
    "\n",
    "path=r'C:\\Users\\Nicolás Molina\\OneDrive\\Escritorio\\GaNAlGaN\\Gan-AlGaN\\adquisiciones\\Bragg'\n",
    "os.chdir (path)\n",
    "import re\n",
    "\n",
    "def scientific_to_normal(number_str):\n",
    "    \"\"\"Convierte un número en notación científica a notación normal.\"\"\"\n",
    "    try:\n",
    "        return str(float(number_str))\n",
    "    except ValueError:\n",
    "        return number_str\n",
    "\n",
    "def process_file(input_file, output_file):\n",
    "    \"\"\"Lee un archivo, convierte números en notación científica a notación normal, y escribe en un nuevo archivo.\"\"\"\n",
    "    with open(input_file, 'r') as file:\n",
    "        content = file.read()\n",
    "\n",
    "    # Encuentra todos los números en notación científica en el archivo\n",
    "    scientific_numbers = re.findall(r'[+-]?\\d+\\.\\d+e[+-]?\\d+', content)\n",
    "\n",
    "    # Reemplaza cada número en notación científica con su representación en notación normal\n",
    "    for number in scientific_numbers:\n",
    "        normal_number = scientific_to_normal(number)\n",
    "        content = content.replace(number, normal_number)\n",
    "\n",
    "    # Escribe el contenido modificado a un nuevo archivo\n",
    "    with open(output_file, 'w') as file:\n",
    "        file.write(content)\n",
    "\n",
    "# Ejemplo de uso\n",
    "input_file = 'CeF3.tsv'\n",
    "output_file = 'CeF3.tsv'\n",
    "process_file(input_file, output_file)\n",
    "\n"
   ]
  },
  {
   "cell_type": "code",
   "execution_count": 2,
   "metadata": {},
   "outputs": [
    {
     "data": {
      "text/plain": [
       "<matplotlib.legend.Legend at 0x1cf1108f150>"
      ]
     },
     "execution_count": 2,
     "metadata": {},
     "output_type": "execute_result"
    }
   ],
   "source": [
    "\n",
    "path=r'C:\\Users\\Nicolás Molina\\OneDrive\\Escritorio\\GaNAlGaN\\Gan-AlGaN\\adquisiciones\\Bragg'\n",
    "plt.close(\"all\")\n",
    "os.chdir (path)\n",
    "import csv\n",
    "\n",
    "file= \"CeF3 espectro corregido.txt\"\n",
    "teorico=\"CeF3 teorico.tsv\"\n",
    "\n",
    "data = np.loadtxt(file, delimiter='\t', skiprows=1, unpack=True)\n",
    "teo= pd.read_csv(teorico, sep='\\t', header=None)\n",
    "x=data[0]/10000\n",
    "y=data[1]/10000\n",
    "\n",
    "\n",
    "xteo=teo[0]\n",
    "yteo=teo[1]\n",
    "\n",
    "\n",
    "plt.figure()\n",
    "plt.title('Patron de difracción de rayos X de las nanopartículas de $CeF_3$ ')  #XRD pattern of the synthesized $CeF_3$ nanoparticles\n",
    "# plt.plot(t,o3, label='DBD sola sin agua')\n",
    "plt.plot(x,y,c=\"black\",label=\"Patrón medido\")\n",
    "plt.plot(xteo,yteo,c=\"red\",linestyle=\"--\",label=\"Patrón teórico\",linewidth=0.7)\n",
    "plt.xlabel('2$\\Theta$')\n",
    "plt.ylabel('Intensidad')\n",
    "#plt.grid()\n",
    "plt.text(23.5, 2700, '002',rotation=90) # Coordenadas y texto\n",
    "plt.text(24.9, 2700, '110',rotation=90)\n",
    "plt.text(27.6, 8500, '111',rotation=90)\n",
    "plt.text(34.8, 1000, '112',rotation=90)\n",
    "plt.text(43.5, 4500, '030',rotation=90)\n",
    "plt.text(45.1, 4100, '113',rotation=90)\n",
    "plt.grid()\n",
    "plt.legend()\n"
   ]
  },
  {
   "cell_type": "code",
   "execution_count": null,
   "metadata": {},
   "outputs": [],
   "source": []
  }
 ],
 "metadata": {
  "kernelspec": {
   "display_name": "base",
   "language": "python",
   "name": "python3"
  },
  "language_info": {
   "codemirror_mode": {
    "name": "ipython",
    "version": 3
   },
   "file_extension": ".py",
   "mimetype": "text/x-python",
   "name": "python",
   "nbconvert_exporter": "python",
   "pygments_lexer": "ipython3",
   "version": "3.11.7"
  }
 },
 "nbformat": 4,
 "nbformat_minor": 2
}
